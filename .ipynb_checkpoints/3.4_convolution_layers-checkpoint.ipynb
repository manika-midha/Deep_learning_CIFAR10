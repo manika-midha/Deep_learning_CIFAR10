{
 "cells": [
  {
   "cell_type": "code",
   "execution_count": null,
   "id": "13cd3597",
   "metadata": {},
   "outputs": [],
   "source": [
    "'''\n",
    "Convolution layers are able to look for patterns no matter where they appear in an image.\n",
    "'''"
   ]
  },
  {
   "cell_type": "code",
   "execution_count": 3,
   "id": "60ba5bd2",
   "metadata": {},
   "outputs": [],
   "source": [
    "from matplotlib import pyplot as plt\n",
    "from keras.datasets import cifar10\n",
    "\n",
    "from keras.models import Sequential\n",
    "from tensorflow.keras.layers import Dense\n",
    "from tensorflow.keras.layers import Conv2D, Flatten\n",
    "\n",
    "import numpy as np\n",
    "from tensorflow.keras.utils import to_categorical"
   ]
  },
  {
   "cell_type": "code",
   "execution_count": 4,
   "id": "b08aeeaf",
   "metadata": {},
   "outputs": [],
   "source": [
    "#load dataset\n",
    "(X_train, y_train), (X_test, y_test) = cifar10.load_data()"
   ]
  },
  {
   "cell_type": "code",
   "execution_count": 5,
   "id": "e24e2fff",
   "metadata": {},
   "outputs": [],
   "source": [
    "#normalise dataset to a range between 0 and 1\n",
    "X_train_re = X_train.astype('float32')/255\n",
    "X_test_re = X_test.astype('float32')/255\n",
    "\n",
    "y_train_cat = to_categorical(y_train, 10) # num_classes = 10\n",
    "y_test_cat = to_categorical(y_test, 10)"
   ]
  },
  {
   "cell_type": "code",
   "execution_count": null,
   "id": "645222d6",
   "metadata": {},
   "outputs": [],
   "source": [
    "'''\n",
    "#convolutional layers can be 1d or 2d, for images we use 2d.\n",
    "#how many different filters should be in the layer ? Each filter will be capable of\n",
    "#detecting one pattern in the image\n",
    "#lets use 32 filters, 3x3 is size of the window of image tile\n",
    "#padding : when we put 3x3 tiles on our input image, if the image size is not completely divisible by 3, some \n",
    "#edges might be left out. So, make everything even out, we add padding - 'same'. this simply adds zeros.\n",
    "\n",
    "When we transition from convolution to dense layers we need to tell keras that we are no longer working with 2d data, \n",
    "thus we add a flatten layer to our nn\n",
    "'''"
   ]
  },
  {
   "cell_type": "code",
   "execution_count": 8,
   "id": "090da7d1",
   "metadata": {},
   "outputs": [],
   "source": [
    "#create model and add layers\n",
    "#add multiple Conv2D layers to make your NN more powerful\n",
    "\n",
    "model = Sequential()\n",
    "\n",
    "#add input shape as this is the first layer.\n",
    "model.add(Conv2D(32, (3,3), padding = 'same', activation = 'relu',input_shape = (32,32,3))) \n",
    "model.add(Conv2D(32, (3,3),activation = 'relu')) #padding not needed\n",
    "\n",
    "#add more convolution layers to make the neural network more powerful\n",
    "model.add(Conv2D(64, (3,3), padding = 'same', activation = 'relu')) \n",
    "model.add(Conv2D(64, (3,3), activation = 'relu'))   \n",
    "          \n",
    "model.add(Flatten())\n",
    "                 \n",
    "model.add(Dense(512,activation = 'relu')) #add first layer\n",
    "model.add(Dense(10,activation = 'softmax')) #we need 10 nodes as we have 10 classes"
   ]
  },
  {
   "cell_type": "code",
   "execution_count": null,
   "id": "f145e1e4",
   "metadata": {},
   "outputs": [],
   "source": [
    "'''\n",
    "CNN has 7 layers : 4 convolution + 1 Flatten + 2 Dense\n",
    "Params = total number of weights in that layer\n",
    "As you add more layers, the number of total params will increase, total params refer to size or complexity of NN.\n",
    "The larger the number, longer it will take to train.\n",
    "When you refine your model, you might find that reducing layers gets you good results. your parameters will reduce in\n",
    "number which means you will need less powerful hardware.\n",
    "\n",
    "'''"
   ]
  },
  {
   "cell_type": "code",
   "execution_count": 9,
   "id": "71b67d9b",
   "metadata": {},
   "outputs": [
    {
     "name": "stdout",
     "output_type": "stream",
     "text": [
      "Model: \"sequential\"\n",
      "_________________________________________________________________\n",
      " Layer (type)                Output Shape              Param #   \n",
      "=================================================================\n",
      " conv2d (Conv2D)             (None, 32, 32, 32)        896       \n",
      "                                                                 \n",
      " conv2d_1 (Conv2D)           (None, 30, 30, 32)        9248      \n",
      "                                                                 \n",
      " conv2d_2 (Conv2D)           (None, 30, 30, 64)        18496     \n",
      "                                                                 \n",
      " conv2d_3 (Conv2D)           (None, 28, 28, 64)        36928     \n",
      "                                                                 \n",
      " flatten (Flatten)           (None, 50176)             0         \n",
      "                                                                 \n",
      " dense (Dense)               (None, 512)               25690624  \n",
      "                                                                 \n",
      " dense_1 (Dense)             (None, 10)                5130      \n",
      "                                                                 \n",
      "=================================================================\n",
      "Total params: 25,761,322\n",
      "Trainable params: 25,761,322\n",
      "Non-trainable params: 0\n",
      "_________________________________________________________________\n"
     ]
    }
   ],
   "source": [
    "model.summary()"
   ]
  },
  {
   "cell_type": "code",
   "execution_count": null,
   "id": "095f615f",
   "metadata": {},
   "outputs": [],
   "source": [
    "'''\n",
    "Param : total number of weights in the layer\n",
    "Higher is the number of total params, longer will it take to train the model\n",
    "'''"
   ]
  }
 ],
 "metadata": {
  "kernelspec": {
   "display_name": "Python 3",
   "language": "python",
   "name": "python3"
  },
  "language_info": {
   "codemirror_mode": {
    "name": "ipython",
    "version": 3
   },
   "file_extension": ".py",
   "mimetype": "text/x-python",
   "name": "python",
   "nbconvert_exporter": "python",
   "pygments_lexer": "ipython3",
   "version": "3.8.11"
  }
 },
 "nbformat": 4,
 "nbformat_minor": 5
}
