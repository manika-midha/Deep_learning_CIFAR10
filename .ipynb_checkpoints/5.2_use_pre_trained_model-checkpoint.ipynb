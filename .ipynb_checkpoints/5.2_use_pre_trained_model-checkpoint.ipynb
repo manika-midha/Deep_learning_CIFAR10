{
 "cells": [
  {
   "cell_type": "code",
   "execution_count": 26,
   "id": "bf84b47a",
   "metadata": {},
   "outputs": [],
   "source": [
    "import numpy as np\n",
    "from keras.preprocessing import image\n",
    "from keras.applications import vgg16"
   ]
  },
  {
   "cell_type": "code",
   "execution_count": 29,
   "id": "311bbaad",
   "metadata": {},
   "outputs": [],
   "source": [
    "#del model"
   ]
  },
  {
   "cell_type": "code",
   "execution_count": 28,
   "id": "b43a7a30",
   "metadata": {},
   "outputs": [],
   "source": [
    "#load keras' vgg16 model that was pre-trained against the ImageNet database\n",
    "model = vgg16.VGG16()"
   ]
  },
  {
   "cell_type": "code",
   "execution_count": 30,
   "id": "3d25d991",
   "metadata": {},
   "outputs": [],
   "source": [
    "#load the image file, resizing it to 224 x 224 pixels(required by this model)\n",
    "#size of image needs to match the number of input nodes in NN\n",
    "img = image.load_img('bay.jpg', target_size = (224,224))"
   ]
  },
  {
   "cell_type": "code",
   "execution_count": 31,
   "id": "a34e75d0",
   "metadata": {},
   "outputs": [],
   "source": [
    "#convert image to numpy array\n",
    "x=image.img_to_array(img)"
   ]
  },
  {
   "cell_type": "code",
   "execution_count": 32,
   "id": "6667dde9",
   "metadata": {},
   "outputs": [],
   "source": [
    "#add a fourth dimension (since keras expects a list of images)\n",
    "x = np.expand_dims(x,axis = 0)"
   ]
  },
  {
   "cell_type": "code",
   "execution_count": null,
   "id": "6214c36b",
   "metadata": {},
   "outputs": [],
   "source": [
    "'''\n",
    "expand_dims :\n",
    "add a fourth dimension to the image\n",
    "this is because keras expects us to pass an array of multiple images at once\n",
    "this turns a single image into an array of multiple images with just one element\n",
    "'''"
   ]
  },
  {
   "cell_type": "code",
   "execution_count": 33,
   "id": "42ec78e4",
   "metadata": {},
   "outputs": [],
   "source": [
    "#normalize the input image's pixel values between 0 and 1\n",
    "x = vgg16.preprocess_input(x)"
   ]
  },
  {
   "cell_type": "code",
   "execution_count": 34,
   "id": "2a28574a",
   "metadata": {},
   "outputs": [],
   "source": [
    "#run image through the deep NN to make a prediction\n",
    "#each prediction will be a 1000 element floating point array, showing how likely our input image is likely to contain\n",
    "#objects the VGG model was trained on\n",
    "\n",
    "predictions = model.predict(x)"
   ]
  },
  {
   "cell_type": "code",
   "execution_count": 35,
   "id": "038ca85d",
   "metadata": {},
   "outputs": [],
   "source": [
    "#look up the names of the predicted classes\n",
    "#decode_predictions shows names of classes\n",
    "\n",
    "predicted_classes = vgg16.decode_predictions(predictions, top = 9)"
   ]
  },
  {
   "cell_type": "code",
   "execution_count": 14,
   "id": "2751ed0c",
   "metadata": {},
   "outputs": [
    {
     "data": {
      "text/plain": [
       "[[('n09428293', 'seashore', 0.3952122),\n",
       "  ('n09399592', 'promontory', 0.32613012),\n",
       "  ('n09332890', 'lakeside', 0.11961259),\n",
       "  ('n02894605', 'breakwater', 0.062800944),\n",
       "  ('n09421951', 'sandbar', 0.04526718),\n",
       "  ('n09246464', 'cliff', 0.011845057),\n",
       "  ('n03216828', 'dock', 0.009195885),\n",
       "  ('n02859443', 'boathouse', 0.00327779),\n",
       "  ('n09468604', 'valley', 0.0031936374)]]"
      ]
     },
     "execution_count": 14,
     "metadata": {},
     "output_type": "execute_result"
    }
   ],
   "source": [
    "predicted_classes[:5]"
   ]
  },
  {
   "cell_type": "code",
   "execution_count": 36,
   "id": "6032cfb5",
   "metadata": {},
   "outputs": [
    {
     "data": {
      "text/plain": [
       "[[('n09428293', 'seashore', 0.3952122),\n",
       "  ('n09399592', 'promontory', 0.32613012),\n",
       "  ('n09332890', 'lakeside', 0.11961259),\n",
       "  ('n02894605', 'breakwater', 0.062800944),\n",
       "  ('n09421951', 'sandbar', 0.04526718),\n",
       "  ('n09246464', 'cliff', 0.011845057),\n",
       "  ('n03216828', 'dock', 0.009195885),\n",
       "  ('n02859443', 'boathouse', 0.00327779),\n",
       "  ('n09468604', 'valley', 0.0031936374)]]"
      ]
     },
     "execution_count": 36,
     "metadata": {},
     "output_type": "execute_result"
    }
   ],
   "source": [
    "predicted_classes"
   ]
  },
  {
   "cell_type": "code",
   "execution_count": 17,
   "id": "8984f402",
   "metadata": {},
   "outputs": [
    {
     "name": "stdout",
     "output_type": "stream",
     "text": [
      "Top prediction for this image is \n"
     ]
    }
   ],
   "source": [
    "print(f'Top prediction for this image is ')"
   ]
  },
  {
   "cell_type": "code",
   "execution_count": 37,
   "id": "d825e20e",
   "metadata": {},
   "outputs": [
    {
     "name": "stdout",
     "output_type": "stream",
     "text": [
      "Prediction : seashore - 0.39521220326423645\n",
      "Prediction : promontory - 0.32613012194633484\n",
      "Prediction : lakeside - 0.11961258947849274\n",
      "Prediction : breakwater - 0.06280094385147095\n",
      "Prediction : sandbar - 0.04526717960834503\n",
      "Prediction : cliff - 0.011845056898891926\n",
      "Prediction : dock - 0.009195884689688683\n",
      "Prediction : boathouse - 0.0032777900341898203\n",
      "Prediction : valley - 0.0031936373561620712\n"
     ]
    }
   ],
   "source": [
    "for imagenet_id, name,likelihood in predicted_classes[0]:\n",
    "    print(f'Prediction : {name} - {likelihood}')"
   ]
  },
  {
   "cell_type": "code",
   "execution_count": null,
   "id": "b4285305",
   "metadata": {},
   "outputs": [],
   "source": [
    "'''\n",
    "Try what you got wrong using your own model\n",
    "'''"
   ]
  },
  {
   "cell_type": "code",
   "execution_count": null,
   "id": "3c6b96be",
   "metadata": {},
   "outputs": [],
   "source": [
    "#try my own image, boat_1.jpg : correct\n",
    "#catmaran is a boat - 12%, trimaran is a boat 4%"
   ]
  },
  {
   "cell_type": "code",
   "execution_count": 38,
   "id": "c7e86a18",
   "metadata": {},
   "outputs": [
    {
     "name": "stdout",
     "output_type": "stream",
     "text": [
      "Prediction : grey_whale - 0.17140811681747437\n",
      "Prediction : great_white_shark - 0.1249302476644516\n",
      "Prediction : catamaran - 0.12052340805530548\n",
      "Prediction : tiger_shark - 0.10662741214036942\n",
      "Prediction : submarine - 0.0976378321647644\n",
      "Prediction : electric_ray - 0.05705215781927109\n",
      "Prediction : trimaran - 0.040302082896232605\n",
      "Prediction : stingray - 0.037694282829761505\n",
      "Prediction : wreck - 0.03490995615720749\n"
     ]
    }
   ],
   "source": [
    "img = image.load_img('boat_1.jpg', target_size = (224,224))\n",
    "x=image.img_to_array(img)\n",
    "x = np.expand_dims(x,axis = 0)\n",
    "\n",
    "x = vgg16.preprocess_input(x)\n",
    "predictions = model.predict(x)\n",
    "\n",
    "predicted_classes = vgg16.decode_predictions(predictions, top = 9)\n",
    "\n",
    "for imagenet_id, name,likelihood in predicted_classes[0]:\n",
    "    print(f'Prediction : {name} - {likelihood}')"
   ]
  },
  {
   "cell_type": "code",
   "execution_count": null,
   "id": "3ae08fc9",
   "metadata": {},
   "outputs": [],
   "source": [
    "#try my own image, boat_2.jpeg : correct"
   ]
  },
  {
   "cell_type": "code",
   "execution_count": 21,
   "id": "b6e9ca94",
   "metadata": {},
   "outputs": [
    {
     "name": "stdout",
     "output_type": "stream",
     "text": [
      "Prediction : speedboat - 0.23364566266536713\n",
      "Prediction : lifeboat - 0.18049933016300201\n",
      "Prediction : container_ship - 0.14857201278209686\n",
      "Prediction : pirate - 0.14660699665546417\n",
      "Prediction : liner - 0.04759809374809265\n",
      "Prediction : dock - 0.03987938165664673\n",
      "Prediction : wreck - 0.024149300530552864\n",
      "Prediction : schooner - 0.022750576958060265\n",
      "Prediction : boathouse - 0.02255515567958355\n"
     ]
    }
   ],
   "source": [
    "img = image.load_img('boat_2.jpeg', target_size = (224,224))\n",
    "x=image.img_to_array(img)\n",
    "x = np.expand_dims(x,axis = 0)\n",
    "\n",
    "x = vgg16.preprocess_input(x)\n",
    "predictions = model.predict(x)\n",
    "\n",
    "predicted_classes = vgg16.decode_predictions(predictions, top = 9)\n",
    "\n",
    "for imagenet_id, name,likelihood in predicted_classes[0]:\n",
    "    print(f'Prediction : {name} - {likelihood}')"
   ]
  },
  {
   "cell_type": "code",
   "execution_count": null,
   "id": "dafcd580",
   "metadata": {},
   "outputs": [],
   "source": [
    "#try my own image, manika_dog.jpg : "
   ]
  },
  {
   "cell_type": "code",
   "execution_count": 39,
   "id": "e5f3e388",
   "metadata": {},
   "outputs": [
    {
     "name": "stdout",
     "output_type": "stream",
     "text": [
      "Prediction : mask - 0.33832019567489624\n",
      "Prediction : wig - 0.3035263419151306\n",
      "Prediction : macaw - 0.16652709245681763\n",
      "Prediction : feather_boa - 0.06570449471473694\n",
      "Prediction : hair_spray - 0.011579805985093117\n",
      "Prediction : comic_book - 0.00953880324959755\n",
      "Prediction : lorikeet - 0.00846063531935215\n",
      "Prediction : jersey - 0.006699726916849613\n",
      "Prediction : cloak - 0.005206170491874218\n"
     ]
    }
   ],
   "source": [
    "img = image.load_img('manika_dog.jpg', target_size = (224,224))\n",
    "x=image.img_to_array(img)\n",
    "x = np.expand_dims(x,axis = 0)\n",
    "\n",
    "x = vgg16.preprocess_input(x)\n",
    "predictions = model.predict(x)\n",
    "\n",
    "predicted_classes = vgg16.decode_predictions(predictions, top = 9)\n",
    "\n",
    "for imagenet_id, name,likelihood in predicted_classes[0]:\n",
    "    print(f'Prediction : {name} - {likelihood}')"
   ]
  },
  {
   "cell_type": "code",
   "execution_count": null,
   "id": "e4cda17d",
   "metadata": {},
   "outputs": [],
   "source": [
    "#try my own image, cocker_spaniel.jpeg : correct"
   ]
  },
  {
   "cell_type": "code",
   "execution_count": 23,
   "id": "4a352502",
   "metadata": {},
   "outputs": [
    {
     "name": "stdout",
     "output_type": "stream",
     "text": [
      "Prediction : Blenheim_spaniel - 0.7203316688537598\n",
      "Prediction : Welsh_springer_spaniel - 0.11424615234136581\n",
      "Prediction : Brittany_spaniel - 0.04804360866546631\n",
      "Prediction : Saint_Bernard - 0.03310669586062431\n",
      "Prediction : cocker_spaniel - 0.02941340021789074\n",
      "Prediction : English_springer - 0.013727271929383278\n",
      "Prediction : Japanese_spaniel - 0.009968039579689503\n",
      "Prediction : Sussex_spaniel - 0.009588563814759254\n",
      "Prediction : basset - 0.004175855312496424\n"
     ]
    }
   ],
   "source": [
    "img = image.load_img('cocker_spaniel.jpeg', target_size = (224,224))\n",
    "x=image.img_to_array(img)\n",
    "x = np.expand_dims(x,axis = 0)\n",
    "\n",
    "x = vgg16.preprocess_input(x)\n",
    "predictions = model.predict(x)\n",
    "\n",
    "predicted_classes = vgg16.decode_predictions(predictions, top = 9)\n",
    "\n",
    "for imagenet_id, name,likelihood in predicted_classes[0]:\n",
    "    print(f'Prediction : {name} - {likelihood}')"
   ]
  },
  {
   "cell_type": "code",
   "execution_count": null,
   "id": "bf50ef50",
   "metadata": {},
   "outputs": [],
   "source": [
    "#try my own image, birds_2.jpeg : correct"
   ]
  },
  {
   "cell_type": "code",
   "execution_count": 40,
   "id": "3f22c725",
   "metadata": {},
   "outputs": [
    {
     "name": "stdout",
     "output_type": "stream",
     "text": [
      "Prediction : vulture - 0.36719706654548645\n",
      "Prediction : white_stork - 0.212053120136261\n",
      "Prediction : kite - 0.08006201684474945\n",
      "Prediction : pelican - 0.07709106802940369\n",
      "Prediction : bald_eagle - 0.05074508115649223\n",
      "Prediction : black_stork - 0.04751254990696907\n",
      "Prediction : goose - 0.02254302054643631\n",
      "Prediction : parachute - 0.022074850276112556\n",
      "Prediction : oystercatcher - 0.017053183168172836\n"
     ]
    }
   ],
   "source": [
    "img = image.load_img('birds_2.jpeg', target_size = (224,224))\n",
    "x=image.img_to_array(img)\n",
    "x = np.expand_dims(x,axis = 0)\n",
    "\n",
    "x = vgg16.preprocess_input(x)\n",
    "predictions = model.predict(x)\n",
    "\n",
    "predicted_classes = vgg16.decode_predictions(predictions, top = 9)\n",
    "\n",
    "for imagenet_id, name,likelihood in predicted_classes[0]:\n",
    "    print(f'Prediction : {name} - {likelihood}')"
   ]
  }
 ],
 "metadata": {
  "kernelspec": {
   "display_name": "Python 3",
   "language": "python",
   "name": "python3"
  },
  "language_info": {
   "codemirror_mode": {
    "name": "ipython",
    "version": 3
   },
   "file_extension": ".py",
   "mimetype": "text/x-python",
   "name": "python",
   "nbconvert_exporter": "python",
   "pygments_lexer": "ipython3",
   "version": "3.8.11"
  }
 },
 "nbformat": 4,
 "nbformat_minor": 5
}
