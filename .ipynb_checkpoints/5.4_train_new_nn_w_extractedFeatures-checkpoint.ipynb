{
 "cells": [
  {
   "cell_type": "code",
   "execution_count": 1,
   "id": "2a1e6e9b",
   "metadata": {},
   "outputs": [],
   "source": [
    "from keras.models import Sequential\n",
    "from keras.layers import Dense, Dropout, Flatten\n",
    "from keras.models import model_from_json\n",
    "from pathlib import Path\n",
    "import joblib\n",
    "import time"
   ]
  },
  {
   "cell_type": "code",
   "execution_count": 2,
   "id": "efa4fa7a",
   "metadata": {},
   "outputs": [],
   "source": [
    "#load data set\n",
    "#load features extracted instead of raw images\n",
    "x_train = joblib.load('x_train.dat') #features\n",
    "y_train = joblib.load('y_train.dat') #labels"
   ]
  },
  {
   "cell_type": "code",
   "execution_count": 3,
   "id": "80a2d721",
   "metadata": {},
   "outputs": [],
   "source": [
    "#Create a model and add layers\n",
    "#this will have no convolutional layers just the final dense layer\n",
    "\n",
    "model_ef = Sequential()\n",
    "\n",
    "model_ef.add(Flatten(input_shape = x_train.shape[1:]))\n",
    "model_ef.add(Dense(256,activation = 'relu'))\n",
    "model_ef.add(Dropout(.5))\n",
    "model_ef.add(Dense(1,activation = 'sigmoid'))"
   ]
  },
  {
   "cell_type": "code",
   "execution_count": 4,
   "id": "6eb31976",
   "metadata": {},
   "outputs": [],
   "source": [
    "#compile model\n",
    "model_ef.compile(\n",
    "    loss = 'binary_crossentropy',\n",
    "    optimizer = 'adam',\n",
    "    metrics = ['accuracy']\n",
    ")"
   ]
  },
  {
   "cell_type": "code",
   "execution_count": 5,
   "id": "06d9c044",
   "metadata": {},
   "outputs": [
    {
     "name": "stdout",
     "output_type": "stream",
     "text": [
      "Epoch 1/10\n",
      "2/2 [==============================] - 2s 206ms/step - loss: 12.9740 - accuracy: 0.5517\n",
      "Epoch 2/10\n",
      "2/2 [==============================] - 0s 10ms/step - loss: 1.2351 - accuracy: 0.8793\n",
      "Epoch 3/10\n",
      "2/2 [==============================] - 0s 10ms/step - loss: 1.0342 - accuracy: 0.9310\n",
      "Epoch 4/10\n",
      "2/2 [==============================] - 0s 9ms/step - loss: 0.3732 - accuracy: 0.9655\n",
      "Epoch 5/10\n",
      "2/2 [==============================] - 0s 9ms/step - loss: 9.9725e-09 - accuracy: 1.0000\n",
      "Epoch 6/10\n",
      "2/2 [==============================] - 0s 8ms/step - loss: 2.8033e-05 - accuracy: 1.0000\n",
      "Epoch 7/10\n",
      "2/2 [==============================] - 0s 8ms/step - loss: 0.0000e+00 - accuracy: 1.0000\n",
      "Epoch 8/10\n",
      "2/2 [==============================] - 0s 9ms/step - loss: 0.1662 - accuracy: 0.9828\n",
      "Epoch 9/10\n",
      "2/2 [==============================] - 0s 9ms/step - loss: 1.0413e-04 - accuracy: 1.0000\n",
      "Epoch 10/10\n",
      "2/2 [==============================] - 0s 8ms/step - loss: 2.9601e-04 - accuracy: 1.0000\n",
      "Training time is 2.453798770904541 seconds\n"
     ]
    }
   ],
   "source": [
    "#Train model\n",
    "t1 = time.time()\n",
    "\n",
    "model_ef.fit(\n",
    "    x_train,\n",
    "    y_train,\n",
    "    epochs = 10,\n",
    "    shuffle = True\n",
    ")\n",
    "\n",
    "t2 = time.time()\n",
    "\n",
    "print(f'Training time is {t2-t1} seconds')"
   ]
  },
  {
   "cell_type": "code",
   "execution_count": 7,
   "id": "0ac6f41a",
   "metadata": {},
   "outputs": [
    {
     "data": {
      "text/plain": [
       "1449"
      ]
     },
     "execution_count": 7,
     "metadata": {},
     "output_type": "execute_result"
    }
   ],
   "source": [
    "#Save NN structure\n",
    "model_ef_structure = model_ef.to_json()\n",
    "f = Path('model_ef_structure.json')\n",
    "f.write_text(model_ef_structure)"
   ]
  },
  {
   "cell_type": "code",
   "execution_count": 9,
   "id": "a9ea8a79",
   "metadata": {},
   "outputs": [],
   "source": [
    "#Save nn's trained weights\n",
    "model_ef.save_weights('model_ef_weights.h5')"
   ]
  }
 ],
 "metadata": {
  "kernelspec": {
   "display_name": "Python 3",
   "language": "python",
   "name": "python3"
  },
  "language_info": {
   "codemirror_mode": {
    "name": "ipython",
    "version": 3
   },
   "file_extension": ".py",
   "mimetype": "text/x-python",
   "name": "python",
   "nbconvert_exporter": "python",
   "pygments_lexer": "ipython3",
   "version": "3.8.11"
  }
 },
 "nbformat": 4,
 "nbformat_minor": 5
}
