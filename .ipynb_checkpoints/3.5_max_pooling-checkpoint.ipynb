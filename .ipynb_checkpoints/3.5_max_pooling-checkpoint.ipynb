{
 "cells": [
  {
   "cell_type": "code",
   "execution_count": null,
   "id": "7061c82e",
   "metadata": {},
   "outputs": [],
   "source": [
    "'''\n",
    "We scale down output of convolution layer by keeping only largest values and throwing away smaller ones.\n",
    "This makes NN more efficient by throwing least useful data and keeping most useful data\n",
    "\n",
    "We typically do max pooling right after a block of convolution layers.\n",
    "'''"
   ]
  },
  {
   "cell_type": "code",
   "execution_count": 1,
   "id": "1feaa666",
   "metadata": {},
   "outputs": [],
   "source": [
    "from matplotlib import pyplot as plt\n",
    "from keras.datasets import cifar10\n",
    "\n",
    "from keras.models import Sequential\n",
    "from tensorflow.keras.layers import Dense\n",
    "from tensorflow.keras.layers import Conv2D, Flatten, MaxPooling2D\n",
    "\n",
    "import numpy as np\n",
    "from tensorflow.keras.utils import to_categorical"
   ]
  },
  {
   "cell_type": "code",
   "execution_count": 2,
   "id": "5cda7637",
   "metadata": {},
   "outputs": [],
   "source": [
    "#load dataset\n",
    "(X_train, y_train), (X_test, y_test) = cifar10.load_data()"
   ]
  },
  {
   "cell_type": "code",
   "execution_count": 3,
   "id": "ab78717e",
   "metadata": {},
   "outputs": [],
   "source": [
    "#normalise dataset to a range between 0 and 1\n",
    "X_train_re = X_train.astype('float32')/255\n",
    "X_test_re = X_test.astype('float32')/255\n",
    "\n",
    "y_train_cat = to_categorical(y_train, 10) # num_classes = 10\n",
    "y_test_cat = to_categorical(y_test, 10)"
   ]
  },
  {
   "cell_type": "code",
   "execution_count": null,
   "id": "ef74d285",
   "metadata": {},
   "outputs": [],
   "source": [
    "'''\n",
    "we divide the image in 2x2 pool sizes and we take the highest value of that pool.\n",
    "this will reduce the szie of the image while keeping most important values\n",
    "'''"
   ]
  },
  {
   "cell_type": "code",
   "execution_count": 5,
   "id": "11154fa2",
   "metadata": {},
   "outputs": [],
   "source": [
    "\n",
    "model = Sequential()\n",
    "\n",
    "#add input shape as this is the first layer.\n",
    "model.add(Conv2D(32, (3,3), padding = 'same', activation = 'relu',input_shape = (32,32,3))) \n",
    "model.add(Conv2D(32, (3,3),activation = 'relu')) #padding not needed\n",
    "model.add(MaxPooling2D(pool_size = (2,2))) #size of area we want to pool together, pool size = 2 x 2 pixels\n",
    "\n",
    "model.add(Conv2D(64, (3,3), padding = 'same', activation = 'relu')) \n",
    "model.add(Conv2D(64, (3,3), activation = 'relu')) \n",
    "model.add(MaxPooling2D(pool_size = (2,2))) #size of area we want to pool together, pool size = 2 x 2 pixels\n",
    "          \n",
    "model.add(Flatten())\n",
    "                 \n",
    "model.add(Dense(512,activation = 'relu')) #add first layer\n",
    "model.add(Dense(10,activation = 'softmax')) #we need 10 nodes as we have 10 classes"
   ]
  },
  {
   "cell_type": "code",
   "execution_count": 7,
   "id": "34179007",
   "metadata": {},
   "outputs": [
    {
     "name": "stdout",
     "output_type": "stream",
     "text": [
      "Model: \"sequential_1\"\n",
      "_________________________________________________________________\n",
      " Layer (type)                Output Shape              Param #   \n",
      "=================================================================\n",
      " conv2d_2 (Conv2D)           (None, 32, 32, 32)        896       \n",
      "                                                                 \n",
      " conv2d_3 (Conv2D)           (None, 30, 30, 32)        9248      \n",
      "                                                                 \n",
      " max_pooling2d (MaxPooling2D  (None, 15, 15, 32)       0         \n",
      " )                                                               \n",
      "                                                                 \n",
      " conv2d_4 (Conv2D)           (None, 15, 15, 64)        18496     \n",
      "                                                                 \n",
      " conv2d_5 (Conv2D)           (None, 13, 13, 64)        36928     \n",
      "                                                                 \n",
      " max_pooling2d_1 (MaxPooling  (None, 6, 6, 64)         0         \n",
      " 2D)                                                             \n",
      "                                                                 \n",
      " flatten (Flatten)           (None, 2304)              0         \n",
      "                                                                 \n",
      " dense (Dense)               (None, 512)               1180160   \n",
      "                                                                 \n",
      " dense_1 (Dense)             (None, 10)                5130      \n",
      "                                                                 \n",
      "=================================================================\n",
      "Total params: 1,250,858\n",
      "Trainable params: 1,250,858\n",
      "Non-trainable params: 0\n",
      "_________________________________________________________________\n"
     ]
    }
   ],
   "source": [
    "model.summary()"
   ]
  },
  {
   "cell_type": "code",
   "execution_count": null,
   "id": "e52cc4cd",
   "metadata": {},
   "outputs": [],
   "source": [
    "'''\n",
    "Number of parameters in max pool layer is 0. \n",
    "instead of increasing the size of the NN, they help us decrease the size by scaling down the data\n",
    "that passes through them, keeping the most important values. This will help speed up the training process.\n",
    "\n",
    "'''"
   ]
  }
 ],
 "metadata": {
  "kernelspec": {
   "display_name": "Python 3",
   "language": "python",
   "name": "python3"
  },
  "language_info": {
   "codemirror_mode": {
    "name": "ipython",
    "version": 3
   },
   "file_extension": ".py",
   "mimetype": "text/x-python",
   "name": "python",
   "nbconvert_exporter": "python",
   "pygments_lexer": "ipython3",
   "version": "3.8.11"
  }
 },
 "nbformat": 4,
 "nbformat_minor": 5
}
