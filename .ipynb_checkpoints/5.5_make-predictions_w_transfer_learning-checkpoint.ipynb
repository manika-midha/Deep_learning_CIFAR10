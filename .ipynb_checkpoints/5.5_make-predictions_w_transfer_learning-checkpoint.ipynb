{
 "cells": [
  {
   "cell_type": "code",
   "execution_count": 1,
   "id": "f23ac3b5",
   "metadata": {},
   "outputs": [],
   "source": [
    "import numpy as np\n",
    "from keras.preprocessing import image\n",
    "from keras.models import model_from_json\n",
    "from pathlib import Path\n",
    "from keras.applications import vgg16"
   ]
  },
  {
   "cell_type": "code",
   "execution_count": 2,
   "id": "f0dbe97b",
   "metadata": {},
   "outputs": [],
   "source": [
    "#load json file that contains models's structure\n",
    "f = Path('model_ef_structure.json')\n",
    "model_structure = f.read_text()"
   ]
  },
  {
   "cell_type": "code",
   "execution_count": 3,
   "id": "3f6c15a8",
   "metadata": {},
   "outputs": [],
   "source": [
    "#recreate the keras model object from the json data\n",
    "model = model_from_json(model_structure)"
   ]
  },
  {
   "cell_type": "code",
   "execution_count": 4,
   "id": "0d8e619c",
   "metadata": {},
   "outputs": [],
   "source": [
    "#re-load the model's trained weights\n",
    "model.load_weights('model_ef_weights.h5')"
   ]
  },
  {
   "cell_type": "code",
   "execution_count": 5,
   "id": "f223b8c8",
   "metadata": {},
   "outputs": [],
   "source": [
    "#load an image file to test, resizing it to 64x64 pixels (as required by this model)\n",
    "img = image.load_img('dog.png',target_size = (64,64))"
   ]
  },
  {
   "cell_type": "code",
   "execution_count": 6,
   "id": "c46c2b3f",
   "metadata": {},
   "outputs": [],
   "source": [
    "#convert image to a numpy array \n",
    "image_array = image.img_to_array(img)"
   ]
  },
  {
   "cell_type": "code",
   "execution_count": 7,
   "id": "8ace5ffc",
   "metadata": {},
   "outputs": [],
   "source": [
    "#add a fourth dimension to the image (since Keras expects a list of images and not a single image)\n",
    "list_of_images = np.expand_dims(image_array,axis=0)"
   ]
  },
  {
   "cell_type": "code",
   "execution_count": 8,
   "id": "12a26a28",
   "metadata": {},
   "outputs": [],
   "source": [
    "#Normalize data\n",
    "images_norm = vgg16.preprocess_input(list_of_images)"
   ]
  },
  {
   "cell_type": "code",
   "execution_count": 9,
   "id": "606833ea",
   "metadata": {},
   "outputs": [],
   "source": [
    "#Use the pre-trained nn to extract features from our test image\n",
    "feature_extraction_model = vgg16.VGG16(weights = 'imagenet', include_top = False, input_shape=(64,64,3))\n",
    "\n",
    "#pass test image to extract its features\n",
    "features = feature_extraction_model.predict(images_norm)"
   ]
  },
  {
   "cell_type": "code",
   "execution_count": 10,
   "id": "1436af5e",
   "metadata": {},
   "outputs": [],
   "source": [
    "#Given the extracted features, make a final prediction \n",
    "results = model.predict(features)"
   ]
  },
  {
   "cell_type": "code",
   "execution_count": 16,
   "id": "05281328",
   "metadata": {},
   "outputs": [
    {
     "data": {
      "text/plain": [
       "array([[1.]], dtype=float32)"
      ]
     },
     "execution_count": 16,
     "metadata": {},
     "output_type": "execute_result"
    }
   ],
   "source": [
    "results"
   ]
  },
  {
   "cell_type": "code",
   "execution_count": 17,
   "id": "27a2afcb",
   "metadata": {},
   "outputs": [
    {
     "data": {
      "text/plain": [
       "array([1.], dtype=float32)"
      ]
     },
     "execution_count": 17,
     "metadata": {},
     "output_type": "execute_result"
    }
   ],
   "source": [
    "results[0]"
   ]
  },
  {
   "cell_type": "code",
   "execution_count": 18,
   "id": "b155ed88",
   "metadata": {},
   "outputs": [
    {
     "data": {
      "text/plain": [
       "1.0"
      ]
     },
     "execution_count": 18,
     "metadata": {},
     "output_type": "execute_result"
    }
   ],
   "source": [
    "results[0][0]"
   ]
  },
  {
   "cell_type": "code",
   "execution_count": 11,
   "id": "2988ad6a",
   "metadata": {},
   "outputs": [],
   "source": [
    "# we are testing only one image\n",
    "single_result = results[0][0]"
   ]
  },
  {
   "cell_type": "code",
   "execution_count": 26,
   "id": "e67be4c5",
   "metadata": {},
   "outputs": [
    {
     "name": "stdout",
     "output_type": "stream",
     "text": [
      "Likelihood this image contains a dog is 100%\n"
     ]
    }
   ],
   "source": [
    "#Print result\n",
    "print(f'Likelihood this image contains a dog is {int(single_result*100)}%')"
   ]
  },
  {
   "cell_type": "code",
   "execution_count": null,
   "id": "e4109677",
   "metadata": {},
   "outputs": [],
   "source": [
    "#try another image, manika_dog.jpg : correct"
   ]
  },
  {
   "cell_type": "code",
   "execution_count": 25,
   "id": "94dfe32a",
   "metadata": {},
   "outputs": [
    {
     "name": "stdout",
     "output_type": "stream",
     "text": [
      "Likelihood this image contains a dog is 100%\n"
     ]
    }
   ],
   "source": [
    "img = image.load_img('manika_dog.jpg',target_size = (64,64))\n",
    "\n",
    "image_array = image.img_to_array(img)\n",
    "list_of_images = np.expand_dims(image_array,axis=0)\n",
    "\n",
    "images_norm = vgg16.preprocess_input(list_of_images)\n",
    "\n",
    "feature_extraction_model = vgg16.VGG16(weights = 'imagenet', include_top = False, input_shape=(64,64,3))\n",
    "features = feature_extraction_model.predict(images_norm)\n",
    "\n",
    "results = model.predict(features)\n",
    "single_result = results[0][0]\n",
    "\n",
    "print(f'Likelihood this image contains a dog is {int(single_result*100)}%')"
   ]
  },
  {
   "cell_type": "code",
   "execution_count": null,
   "id": "dcd8c141",
   "metadata": {},
   "outputs": [],
   "source": [
    "#try another image, dog_w_trainer.jpeg : correct"
   ]
  },
  {
   "cell_type": "code",
   "execution_count": 35,
   "id": "44dab20e",
   "metadata": {},
   "outputs": [
    {
     "name": "stdout",
     "output_type": "stream",
     "text": [
      "Likelihood this image contains a dog is 100%\n"
     ]
    }
   ],
   "source": [
    "img = image.load_img('dog_w_trainer.jpeg',target_size = (64,64))\n",
    "\n",
    "image_array = image.img_to_array(img)\n",
    "list_of_images = np.expand_dims(image_array,axis=0)\n",
    "\n",
    "images_norm = vgg16.preprocess_input(list_of_images)\n",
    "\n",
    "feature_extraction_model = vgg16.VGG16(weights = 'imagenet', include_top = False, input_shape=(64,64,3))\n",
    "features = feature_extraction_model.predict(images_norm)\n",
    "\n",
    "results = model.predict(features)\n",
    "single_result = results[0][0]\n",
    "\n",
    "print(f'Likelihood this image contains a dog is {int(single_result*100)}%')"
   ]
  },
  {
   "cell_type": "code",
   "execution_count": null,
   "id": "9c692e0d",
   "metadata": {},
   "outputs": [],
   "source": [
    "#try another image, boat_1.jpg : incorrect"
   ]
  },
  {
   "cell_type": "code",
   "execution_count": 32,
   "id": "8e114021",
   "metadata": {},
   "outputs": [
    {
     "name": "stdout",
     "output_type": "stream",
     "text": [
      "Likelihood this image contains a dog is 0%\n"
     ]
    }
   ],
   "source": [
    "img = image.load_img('boat_1.jpg',target_size = (64,64))\n",
    "\n",
    "image_array = image.img_to_array(img)\n",
    "list_of_images = np.expand_dims(image_array,axis=0)\n",
    "\n",
    "images_norm = vgg16.preprocess_input(list_of_images)\n",
    "\n",
    "feature_extraction_model = vgg16.VGG16(weights = 'imagenet', include_top = False, input_shape=(64,64,3))\n",
    "features = feature_extraction_model.predict(images_norm)\n",
    "\n",
    "results = model.predict(features)\n",
    "single_result = results[0][0]\n",
    "\n",
    "print(f'Likelihood this image contains a dog is {int(single_result*100)}%')"
   ]
  },
  {
   "cell_type": "code",
   "execution_count": null,
   "id": "c47a5be1",
   "metadata": {},
   "outputs": [],
   "source": [
    "#try another image, not_dog.png : correct"
   ]
  },
  {
   "cell_type": "code",
   "execution_count": 33,
   "id": "657e71e8",
   "metadata": {},
   "outputs": [
    {
     "name": "stdout",
     "output_type": "stream",
     "text": [
      "Likelihood this image contains a dog is 0%\n"
     ]
    }
   ],
   "source": [
    "img = image.load_img('not_dog.png',target_size = (64,64))\n",
    "\n",
    "image_array = image.img_to_array(img)\n",
    "list_of_images = np.expand_dims(image_array,axis=0)\n",
    "\n",
    "images_norm = vgg16.preprocess_input(list_of_images)\n",
    "\n",
    "feature_extraction_model = vgg16.VGG16(weights = 'imagenet', include_top = False, input_shape=(64,64,3))\n",
    "features = feature_extraction_model.predict(images_norm)\n",
    "\n",
    "results = model.predict(features)\n",
    "single_result = results[0][0]\n",
    "\n",
    "print(f'Likelihood this image contains a dog is {int(single_result*100)}%')"
   ]
  },
  {
   "cell_type": "code",
   "execution_count": null,
   "id": "0cb2fc8f",
   "metadata": {},
   "outputs": [],
   "source": [
    "#try another image, cocker_spaniel.jpeg : correct"
   ]
  },
  {
   "cell_type": "code",
   "execution_count": 34,
   "id": "a1d8929c",
   "metadata": {},
   "outputs": [
    {
     "name": "stdout",
     "output_type": "stream",
     "text": [
      "Likelihood this image contains a dog is 100%\n"
     ]
    }
   ],
   "source": [
    "img = image.load_img('cocker_spaniel.jpeg',target_size = (64,64))\n",
    "\n",
    "image_array = image.img_to_array(img)\n",
    "list_of_images = np.expand_dims(image_array,axis=0)\n",
    "\n",
    "images_norm = vgg16.preprocess_input(list_of_images)\n",
    "\n",
    "feature_extraction_model = vgg16.VGG16(weights = 'imagenet', include_top = False, input_shape=(64,64,3))\n",
    "features = feature_extraction_model.predict(images_norm)\n",
    "\n",
    "results = model.predict(features)\n",
    "single_result = results[0][0]\n",
    "\n",
    "print(f'Likelihood this image contains a dog is {int(single_result*100)}%')"
   ]
  },
  {
   "cell_type": "code",
   "execution_count": null,
   "id": "8886e2af",
   "metadata": {},
   "outputs": [],
   "source": [
    "'''\n",
    "Accuracy may vary as our training data is very small - 32 + 32 = 64 images.\n",
    "we are checking if an image contains a dog or not\n",
    "We have built something very powerful. With a few training images, we have built a model that distinguishes images of dogs from not-dogs.\n",
    "As, we used transfer learning, the training time was very less\n",
    "'''"
   ]
  }
 ],
 "metadata": {
  "kernelspec": {
   "display_name": "Python 3",
   "language": "python",
   "name": "python3"
  },
  "language_info": {
   "codemirror_mode": {
    "name": "ipython",
    "version": 3
   },
   "file_extension": ".py",
   "mimetype": "text/x-python",
   "name": "python",
   "nbconvert_exporter": "python",
   "pygments_lexer": "ipython3",
   "version": "3.8.11"
  }
 },
 "nbformat": 4,
 "nbformat_minor": 5
}
