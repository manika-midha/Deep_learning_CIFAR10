{
 "cells": [
  {
   "cell_type": "code",
   "execution_count": 6,
   "id": "670eef95",
   "metadata": {},
   "outputs": [],
   "source": [
    "from matplotlib import pyplot as plt\n",
    "from keras.datasets import cifar10\n",
    "import numpy as np\n",
    "from tensorflow.keras.utils import to_categorical"
   ]
  },
  {
   "cell_type": "code",
   "execution_count": 3,
   "id": "c46b07cf",
   "metadata": {},
   "outputs": [],
   "source": [
    "#load dataset : X contains actual images, y contains labels for those images\n",
    "(X_train, y_train), (X_test, y_test) = cifar10.load_data()"
   ]
  },
  {
   "cell_type": "code",
   "execution_count": 7,
   "id": "5ae5c88f",
   "metadata": {},
   "outputs": [],
   "source": [
    "#Normalize data set to 0-1 range.\n",
    "#NNs work best when input value is a float value between 0 and 1.\n",
    "#Normally, each pixel has an int value between 0 and 255\n",
    "#Thus, convert each val to a float and then divide by 255 to normalise\n",
    "\n",
    "X_train_re = X_train.astype('float32')/255\n",
    "X_test_re = X_test.astype('float32')/255"
   ]
  },
  {
   "cell_type": "code",
   "execution_count": 8,
   "id": "9af34707",
   "metadata": {},
   "outputs": [],
   "source": [
    "#convert decimal labels to binary numbers\n",
    "#our labels are between 0 and 9\n",
    "#Instead, we need each label to be an array with one number to be set to 1 and all others 0, the number of digits \n",
    "#in a label are equal to the number of columns (10)\n",
    "\n",
    "y_train_cat = to_categorical(y_train, 10) # num_classes = 10\n",
    "y_test_cat = to_categorical(y_test, 10)"
   ]
  },
  {
   "cell_type": "code",
   "execution_count": 9,
   "id": "6446db9b",
   "metadata": {},
   "outputs": [
    {
     "data": {
      "text/plain": [
       "array([[6],\n",
       "       [9],\n",
       "       [9],\n",
       "       [4],\n",
       "       [1]], dtype=uint8)"
      ]
     },
     "execution_count": 9,
     "metadata": {},
     "output_type": "execute_result"
    }
   ],
   "source": [
    "y_train[:5]"
   ]
  },
  {
   "cell_type": "code",
   "execution_count": 10,
   "id": "6361b593",
   "metadata": {},
   "outputs": [
    {
     "data": {
      "text/plain": [
       "array([[0., 0., 0., 0., 0., 0., 1., 0., 0., 0.],\n",
       "       [0., 0., 0., 0., 0., 0., 0., 0., 0., 1.],\n",
       "       [0., 0., 0., 0., 0., 0., 0., 0., 0., 1.],\n",
       "       [0., 0., 0., 0., 1., 0., 0., 0., 0., 0.],\n",
       "       [0., 1., 0., 0., 0., 0., 0., 0., 0., 0.]], dtype=float32)"
      ]
     },
     "execution_count": 10,
     "metadata": {},
     "output_type": "execute_result"
    }
   ],
   "source": [
    "y_train_cat[:5]"
   ]
  }
 ],
 "metadata": {
  "kernelspec": {
   "display_name": "Python 3",
   "language": "python",
   "name": "python3"
  },
  "language_info": {
   "codemirror_mode": {
    "name": "ipython",
    "version": 3
   },
   "file_extension": ".py",
   "mimetype": "text/x-python",
   "name": "python",
   "nbconvert_exporter": "python",
   "pygments_lexer": "ipython3",
   "version": "3.8.11"
  }
 },
 "nbformat": 4,
 "nbformat_minor": 5
}
