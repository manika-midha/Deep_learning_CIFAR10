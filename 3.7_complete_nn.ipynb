{
 "cells": [
  {
   "cell_type": "code",
   "execution_count": 1,
   "id": "ee3f4122",
   "metadata": {},
   "outputs": [],
   "source": [
    "from matplotlib import pyplot as plt\n",
    "from keras.datasets import cifar10\n",
    "\n",
    "from keras.models import Sequential\n",
    "from tensorflow.keras.layers import Dense, Dropout\n",
    "from tensorflow.keras.layers import Conv2D, Flatten, MaxPooling2D\n",
    "\n",
    "import numpy as np\n",
    "from tensorflow.keras.utils import to_categorical"
   ]
  },
  {
   "cell_type": "code",
   "execution_count": 2,
   "id": "e0e59880",
   "metadata": {},
   "outputs": [],
   "source": [
    "#load dataset\n",
    "(X_train, y_train), (X_test, y_test) = cifar10.load_data()"
   ]
  },
  {
   "cell_type": "code",
   "execution_count": 3,
   "id": "8ef79b12",
   "metadata": {},
   "outputs": [],
   "source": [
    "#normalise dataset to a range between 0 and 1\n",
    "X_train_re = X_train.astype('float32')/255\n",
    "X_test_re = X_test.astype('float32')/255\n",
    "\n",
    "y_train_cat = to_categorical(y_train, 10) # num_classes = 10\n",
    "y_test_cat = to_categorical(y_test, 10)"
   ]
  },
  {
   "cell_type": "code",
   "execution_count": 4,
   "id": "a60584a9",
   "metadata": {},
   "outputs": [],
   "source": [
    "#create model\n",
    "model = Sequential()\n",
    "\n",
    "model.add(Conv2D(32, (3,3), padding = 'same', activation = 'relu',input_shape = (32,32,3))) # 3x3 is size of tile to extract patterns\n",
    "model.add(Conv2D(32, (3,3),activation = 'relu')) #padding not needed\n",
    "model.add(MaxPooling2D(pool_size = (2,2))) #size of area we want to pool together, pool size = 2 x 2 pixels\n",
    "model.add(Dropout(.25)) #% of random connections to cut, usually a val between 25% - 50% works well\n",
    "\n",
    "model.add(Conv2D(64, (3,3), padding = 'same', activation = 'relu')) \n",
    "model.add(Conv2D(64, (3,3), activation = 'relu')) \n",
    "model.add(MaxPooling2D(pool_size = (2,2))) #size of area we want to pool together, pool size = 2 x 2 pixels\n",
    "model.add(Dropout(.25))  \n",
    "\n",
    "model.add(Flatten())\n",
    "                 \n",
    "model.add(Dense(512,activation = 'relu')) #\n",
    "model.add(Dropout(.50)) #the NN will try harder to learn\n",
    "\n",
    "model.add(Dense(10,activation = 'softmax')) #we need 10 nodes as we have 10 classes"
   ]
  },
  {
   "cell_type": "code",
   "execution_count": null,
   "id": "43f882a0",
   "metadata": {},
   "outputs": [],
   "source": [
    "'''\n",
    "if you are trying to classify images in different categories, use 'categorical_crossentropy'.\n",
    "if you are checking if an image belongs to only one category, use binary categorical_crossentropy\n",
    "'''"
   ]
  },
  {
   "cell_type": "code",
   "execution_count": 5,
   "id": "8f83ef92",
   "metadata": {},
   "outputs": [],
   "source": [
    "#complie NN : create a NN in  memory, also how will be measure its accuracy\n",
    "model.compile(\n",
    "    loss = 'categorical_crossentropy', #classify images in different categories\n",
    "    optimizer = 'adam', # alogo to run to train the neural network\n",
    "    metrics = ['accuracy']\n",
    ")"
   ]
  },
  {
   "cell_type": "code",
   "execution_count": 6,
   "id": "f771a2b9",
   "metadata": {},
   "outputs": [
    {
     "name": "stdout",
     "output_type": "stream",
     "text": [
      "Model: \"sequential\"\n",
      "_________________________________________________________________\n",
      " Layer (type)                Output Shape              Param #   \n",
      "=================================================================\n",
      " conv2d (Conv2D)             (None, 32, 32, 32)        896       \n",
      "                                                                 \n",
      " conv2d_1 (Conv2D)           (None, 30, 30, 32)        9248      \n",
      "                                                                 \n",
      " max_pooling2d (MaxPooling2D  (None, 15, 15, 32)       0         \n",
      " )                                                               \n",
      "                                                                 \n",
      " dropout (Dropout)           (None, 15, 15, 32)        0         \n",
      "                                                                 \n",
      " conv2d_2 (Conv2D)           (None, 15, 15, 64)        18496     \n",
      "                                                                 \n",
      " conv2d_3 (Conv2D)           (None, 13, 13, 64)        36928     \n",
      "                                                                 \n",
      " max_pooling2d_1 (MaxPooling  (None, 6, 6, 64)         0         \n",
      " 2D)                                                             \n",
      "                                                                 \n",
      " dropout_1 (Dropout)         (None, 6, 6, 64)          0         \n",
      "                                                                 \n",
      " flatten (Flatten)           (None, 2304)              0         \n",
      "                                                                 \n",
      " dense (Dense)               (None, 512)               1180160   \n",
      "                                                                 \n",
      " dropout_2 (Dropout)         (None, 512)               0         \n",
      "                                                                 \n",
      " dense_1 (Dense)             (None, 10)                5130      \n",
      "                                                                 \n",
      "=================================================================\n",
      "Total params: 1,250,858\n",
      "Trainable params: 1,250,858\n",
      "Non-trainable params: 0\n",
      "_________________________________________________________________\n"
     ]
    }
   ],
   "source": [
    "model.summary()"
   ]
  }
 ],
 "metadata": {
  "kernelspec": {
   "display_name": "Python 3",
   "language": "python",
   "name": "python3"
  },
  "language_info": {
   "codemirror_mode": {
    "name": "ipython",
    "version": 3
   },
   "file_extension": ".py",
   "mimetype": "text/x-python",
   "name": "python",
   "nbconvert_exporter": "python",
   "pygments_lexer": "ipython3",
   "version": "3.8.11"
  }
 },
 "nbformat": 4,
 "nbformat_minor": 5
}
