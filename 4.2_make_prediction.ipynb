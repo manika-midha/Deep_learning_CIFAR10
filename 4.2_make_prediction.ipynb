{
 "cells": [
  {
   "cell_type": "code",
   "execution_count": 100,
   "id": "09b92bfe",
   "metadata": {},
   "outputs": [],
   "source": [
    "import numpy as np\n",
    "from keras.preprocessing import image\n",
    "from keras.models import model_from_json\n",
    "from pathlib import Path"
   ]
  },
  {
   "cell_type": "code",
   "execution_count": 101,
   "id": "9d8343f0",
   "metadata": {},
   "outputs": [],
   "source": [
    "#class labels from training data, 0 to 9\n",
    "class_labels = ['Plane','Car','Bird','Cat','Deer','Dog','Frog','Horse','Boat','Truck']"
   ]
  },
  {
   "cell_type": "code",
   "execution_count": 102,
   "id": "ef55ef71",
   "metadata": {},
   "outputs": [],
   "source": [
    "#load json file that that contains model's structure\n",
    "\n",
    "f = Path('model_structure.json')\n",
    "model_structure = f.read_text()"
   ]
  },
  {
   "cell_type": "code",
   "execution_count": 103,
   "id": "7f6837b6",
   "metadata": {},
   "outputs": [],
   "source": [
    "del model"
   ]
  },
  {
   "cell_type": "code",
   "execution_count": 104,
   "id": "3f3b566e",
   "metadata": {},
   "outputs": [],
   "source": [
    "#recreate the keras model object from the json data\n",
    "model = model_from_json(model_structure)"
   ]
  },
  {
   "cell_type": "code",
   "execution_count": 105,
   "id": "e42e73d8",
   "metadata": {},
   "outputs": [],
   "source": [
    "#re-load the model's trained weights\n",
    "model.load_weights('model_weights.h5')"
   ]
  },
  {
   "cell_type": "code",
   "execution_count": null,
   "id": "0f1c5077",
   "metadata": {},
   "outputs": [],
   "source": [
    "#manika_dog : incorrect"
   ]
  },
  {
   "cell_type": "code",
   "execution_count": 107,
   "id": "5ec3b0ac",
   "metadata": {},
   "outputs": [],
   "source": [
    "#load an image file to test, resizing it to 32x32 pixels (as required by this model)\n",
    "img = image.load_img('manika_dog.jpg',target_size = (32,32))"
   ]
  },
  {
   "cell_type": "code",
   "execution_count": 108,
   "id": "ebf7dbcd",
   "metadata": {},
   "outputs": [],
   "source": [
    "#convert image to a numpy array and normalise\n",
    "image_to_test = image.img_to_array(img) / 255"
   ]
  },
  {
   "cell_type": "code",
   "execution_count": 109,
   "id": "1854e0b9",
   "metadata": {},
   "outputs": [],
   "source": [
    "'''\n",
    "you can run more than one image through NN at one time. Thus, create a batch of images to pass in.\n",
    "keras expect these batches as 4D arrays.\n",
    "1st dim = list of images\n",
    "3 dims = image data\n",
    "\n",
    "'''\n",
    "#add a fourth dimension to the image (since Keras expects a list of images and not a single image)\n",
    "list_of_images = np.expand_dims(image_to_test,axis=0)"
   ]
  },
  {
   "cell_type": "code",
   "execution_count": 25,
   "id": "72effab5",
   "metadata": {},
   "outputs": [],
   "source": [
    "#list_of_images"
   ]
  },
  {
   "cell_type": "code",
   "execution_count": 110,
   "id": "d24d2e98",
   "metadata": {},
   "outputs": [],
   "source": [
    "#make a prediction using the model\n",
    "results = model.predict(list_of_images)"
   ]
  },
  {
   "cell_type": "code",
   "execution_count": 26,
   "id": "b14f09f6",
   "metadata": {},
   "outputs": [
    {
     "data": {
      "text/plain": [
       "array([[1.2566545e-06, 9.5069950e-08, 5.4906428e-05, 9.9798316e-01,\n",
       "        1.3278296e-03, 5.5378943e-04, 5.7355770e-05, 2.1394184e-05,\n",
       "        4.1911301e-09, 2.7561100e-07]], dtype=float32)"
      ]
     },
     "execution_count": 26,
     "metadata": {},
     "output_type": "execute_result"
    }
   ],
   "source": [
    "results"
   ]
  },
  {
   "cell_type": "code",
   "execution_count": 27,
   "id": "983f0e92",
   "metadata": {},
   "outputs": [
    {
     "data": {
      "text/plain": [
       "array([1.2566545e-06, 9.5069950e-08, 5.4906428e-05, 9.9798316e-01,\n",
       "       1.3278296e-03, 5.5378943e-04, 5.7355770e-05, 2.1394184e-05,\n",
       "       4.1911301e-09, 2.7561100e-07], dtype=float32)"
      ]
     },
     "execution_count": 27,
     "metadata": {},
     "output_type": "execute_result"
    }
   ],
   "source": [
    "results[0]"
   ]
  },
  {
   "cell_type": "code",
   "execution_count": 111,
   "id": "b763ffd6",
   "metadata": {},
   "outputs": [],
   "source": [
    "#since as we are testing one image, we only need to check the first result\n",
    "single_result = results[0]\n",
    "\n",
    "#single result is an array with 10 elements. each element signifies how likely the image is to belong to one of \n",
    "#the categories listed in class labels. instead of returning full array, just grab the ele with highest value"
   ]
  },
  {
   "cell_type": "code",
   "execution_count": 52,
   "id": "47d94533",
   "metadata": {},
   "outputs": [
    {
     "data": {
      "text/plain": [
       "6"
      ]
     },
     "execution_count": 52,
     "metadata": {},
     "output_type": "execute_result"
    }
   ],
   "source": [
    "np.argmax(single_result)"
   ]
  },
  {
   "cell_type": "code",
   "execution_count": 41,
   "id": "9fcaf914",
   "metadata": {},
   "outputs": [
    {
     "data": {
      "text/plain": [
       "0.96323407"
      ]
     },
     "execution_count": 41,
     "metadata": {},
     "output_type": "execute_result"
    }
   ],
   "source": [
    "single_result[6]"
   ]
  },
  {
   "cell_type": "code",
   "execution_count": 112,
   "id": "93de6884",
   "metadata": {},
   "outputs": [],
   "source": [
    "most_likely_class_index = int(np.argmax(single_result)) #Returns the indices of the maximum values along an axis.\n",
    "class_likelihood = single_result[most_likely_class_index]"
   ]
  },
  {
   "cell_type": "code",
   "execution_count": 113,
   "id": "ce4ae0f3",
   "metadata": {},
   "outputs": [],
   "source": [
    "#get the name of most likely class \n",
    "class_label = class_labels[most_likely_class_index]"
   ]
  },
  {
   "cell_type": "code",
   "execution_count": 114,
   "id": "c9a5971c",
   "metadata": {},
   "outputs": [
    {
     "name": "stdout",
     "output_type": "stream",
     "text": [
      "This image is a Frog, likelihood is 0.9632340669631958\n"
     ]
    }
   ],
   "source": [
    "print(f'This image is a {class_label}, likelihood is {class_likelihood}')"
   ]
  },
  {
   "cell_type": "code",
   "execution_count": null,
   "id": "4e7e46dc",
   "metadata": {},
   "outputs": [],
   "source": [
    "#cat.png"
   ]
  },
  {
   "cell_type": "code",
   "execution_count": 106,
   "id": "62956205",
   "metadata": {},
   "outputs": [
    {
     "name": "stdout",
     "output_type": "stream",
     "text": [
      "This image is a Cat, likelihood is 0.9979831576347351\n"
     ]
    }
   ],
   "source": [
    "img = image.load_img('cat.png',target_size = (32,32))\n",
    "image_to_test = image.img_to_array(img) / 255\n",
    "list_of_images = np.expand_dims(image_to_test,axis=0)\n",
    "\n",
    "results = model.predict(list_of_images)\n",
    "single_result = results[0]\n",
    "\n",
    "most_likely_class_index = int(np.argmax(single_result)) \n",
    "class_likelihood = single_result[most_likely_class_index]\n",
    "class_label = class_labels[most_likely_class_index]\n",
    "\n",
    "print(f'This image is a {class_label}, likelihood is {class_likelihood}')"
   ]
  },
  {
   "cell_type": "code",
   "execution_count": null,
   "id": "b448e16d",
   "metadata": {},
   "outputs": [],
   "source": [
    "#cocker_spaniel - incorrect"
   ]
  },
  {
   "cell_type": "code",
   "execution_count": 115,
   "id": "b00f1267",
   "metadata": {},
   "outputs": [
    {
     "name": "stdout",
     "output_type": "stream",
     "text": [
      "This image is a Cat, likelihood is 0.7682209610939026\n"
     ]
    }
   ],
   "source": [
    "img = image.load_img('cocker_spaniel.jpeg',target_size = (32,32))\n",
    "image_to_test = image.img_to_array(img) / 255\n",
    "list_of_images = np.expand_dims(image_to_test,axis=0)\n",
    "\n",
    "results = model.predict(list_of_images)\n",
    "single_result = results[0]\n",
    "\n",
    "most_likely_class_index = int(np.argmax(single_result)) \n",
    "class_likelihood = single_result[most_likely_class_index]\n",
    "class_label = class_labels[most_likely_class_index]\n",
    "\n",
    "print(f'This image is a {class_label}, likelihood is {class_likelihood}')"
   ]
  },
  {
   "cell_type": "code",
   "execution_count": null,
   "id": "e102b4f3",
   "metadata": {},
   "outputs": [],
   "source": [
    "#car.png"
   ]
  },
  {
   "cell_type": "code",
   "execution_count": 62,
   "id": "b012e01a",
   "metadata": {},
   "outputs": [
    {
     "name": "stdout",
     "output_type": "stream",
     "text": [
      "This image is a Car, likelihood is 0.8856107592582703\n"
     ]
    }
   ],
   "source": [
    "img = image.load_img('car.png',target_size = (32,32))\n",
    "image_to_test = image.img_to_array(img) / 255\n",
    "list_of_images = np.expand_dims(image_to_test,axis=0)\n",
    "\n",
    "results = model.predict(list_of_images)\n",
    "single_result = results[0]\n",
    "\n",
    "most_likely_class_index = int(np.argmax(single_result)) \n",
    "class_likelihood = single_result[most_likely_class_index]\n",
    "class_label = class_labels[most_likely_class_index]\n",
    "\n",
    "print(f'This image is a {class_label}, likelihood is {class_likelihood}')"
   ]
  },
  {
   "cell_type": "code",
   "execution_count": null,
   "id": "b4da257f",
   "metadata": {},
   "outputs": [],
   "source": [
    "#boat_1.jpg : incorrect"
   ]
  },
  {
   "cell_type": "code",
   "execution_count": 63,
   "id": "153bd26e",
   "metadata": {},
   "outputs": [
    {
     "name": "stdout",
     "output_type": "stream",
     "text": [
      "This image is a Bird, likelihood is 0.8062613010406494\n"
     ]
    }
   ],
   "source": [
    "img = image.load_img('boat_1.jpg',target_size = (32,32))\n",
    "image_to_test = image.img_to_array(img) / 255\n",
    "list_of_images = np.expand_dims(image_to_test,axis=0)\n",
    "\n",
    "results = model.predict(list_of_images)\n",
    "single_result = results[0]\n",
    "\n",
    "most_likely_class_index = int(np.argmax(single_result)) \n",
    "class_likelihood = single_result[most_likely_class_index]\n",
    "class_label = class_labels[most_likely_class_index]\n",
    "\n",
    "print(f'This image is a {class_label}, likelihood is {class_likelihood}')"
   ]
  },
  {
   "cell_type": "code",
   "execution_count": null,
   "id": "f98ee619",
   "metadata": {},
   "outputs": [],
   "source": [
    "#boat_2.jpg : incorrect"
   ]
  },
  {
   "cell_type": "code",
   "execution_count": 65,
   "id": "e4089f1f",
   "metadata": {},
   "outputs": [
    {
     "name": "stdout",
     "output_type": "stream",
     "text": [
      "This image is a Car, likelihood is 0.7363543510437012\n"
     ]
    }
   ],
   "source": [
    "img = image.load_img('boat_2.jpeg',target_size = (32,32))\n",
    "image_to_test = image.img_to_array(img) / 255\n",
    "list_of_images = np.expand_dims(image_to_test,axis=0)\n",
    "\n",
    "results = model.predict(list_of_images)\n",
    "single_result = results[0]\n",
    "\n",
    "most_likely_class_index = int(np.argmax(single_result)) \n",
    "class_likelihood = single_result[most_likely_class_index]\n",
    "class_label = class_labels[most_likely_class_index]\n",
    "\n",
    "print(f'This image is a {class_label}, likelihood is {class_likelihood}')"
   ]
  },
  {
   "cell_type": "code",
   "execution_count": null,
   "id": "dd9b4767",
   "metadata": {},
   "outputs": [],
   "source": [
    "#horse_1.jpeg : correct"
   ]
  },
  {
   "cell_type": "code",
   "execution_count": 66,
   "id": "47a0d44e",
   "metadata": {},
   "outputs": [
    {
     "name": "stdout",
     "output_type": "stream",
     "text": [
      "This image is a Horse, likelihood is 0.9984627962112427\n"
     ]
    }
   ],
   "source": [
    "img = image.load_img('horse_1.jpeg',target_size = (32,32))\n",
    "image_to_test = image.img_to_array(img) / 255\n",
    "list_of_images = np.expand_dims(image_to_test,axis=0)\n",
    "\n",
    "results = model.predict(list_of_images)\n",
    "single_result = results[0]\n",
    "\n",
    "most_likely_class_index = int(np.argmax(single_result)) \n",
    "class_likelihood = single_result[most_likely_class_index]\n",
    "class_label = class_labels[most_likely_class_index]\n",
    "\n",
    "print(f'This image is a {class_label}, likelihood is {class_likelihood}')"
   ]
  },
  {
   "cell_type": "code",
   "execution_count": null,
   "id": "1ebfcc09",
   "metadata": {},
   "outputs": [],
   "source": [
    "#deer_1.jpeg : correct"
   ]
  },
  {
   "cell_type": "code",
   "execution_count": 67,
   "id": "4c61133c",
   "metadata": {},
   "outputs": [
    {
     "name": "stdout",
     "output_type": "stream",
     "text": [
      "This image is a Deer, likelihood is 0.7084612846374512\n"
     ]
    }
   ],
   "source": [
    "img = image.load_img('deer_1.jpeg',target_size = (32,32))\n",
    "image_to_test = image.img_to_array(img) / 255\n",
    "list_of_images = np.expand_dims(image_to_test,axis=0)\n",
    "\n",
    "results = model.predict(list_of_images)\n",
    "single_result = results[0]\n",
    "\n",
    "most_likely_class_index = int(np.argmax(single_result)) \n",
    "class_likelihood = single_result[most_likely_class_index]\n",
    "class_label = class_labels[most_likely_class_index]\n",
    "\n",
    "print(f'This image is a {class_label}, likelihood is {class_likelihood}')"
   ]
  },
  {
   "cell_type": "code",
   "execution_count": null,
   "id": "5b0a6966",
   "metadata": {},
   "outputs": [],
   "source": [
    "#bird_1.jpeg : correct"
   ]
  },
  {
   "cell_type": "code",
   "execution_count": 68,
   "id": "c73abe39",
   "metadata": {},
   "outputs": [
    {
     "name": "stdout",
     "output_type": "stream",
     "text": [
      "This image is a Bird, likelihood is 0.9917313456535339\n"
     ]
    }
   ],
   "source": [
    "img = image.load_img('bird_1.jpeg',target_size = (32,32))\n",
    "image_to_test = image.img_to_array(img) / 255\n",
    "list_of_images = np.expand_dims(image_to_test,axis=0)\n",
    "\n",
    "results = model.predict(list_of_images)\n",
    "single_result = results[0]\n",
    "\n",
    "most_likely_class_index = int(np.argmax(single_result)) \n",
    "class_likelihood = single_result[most_likely_class_index]\n",
    "class_label = class_labels[most_likely_class_index]\n",
    "\n",
    "print(f'This image is a {class_label}, likelihood is {class_likelihood}')"
   ]
  },
  {
   "cell_type": "code",
   "execution_count": null,
   "id": "51c0047d",
   "metadata": {},
   "outputs": [],
   "source": [
    "#birds_2.jpeg : incorrect"
   ]
  },
  {
   "cell_type": "code",
   "execution_count": 116,
   "id": "00649e16",
   "metadata": {},
   "outputs": [
    {
     "name": "stdout",
     "output_type": "stream",
     "text": [
      "This image is a Plane, likelihood is 0.9949766397476196\n"
     ]
    }
   ],
   "source": [
    "img = image.load_img('birds_2.jpeg',target_size = (32,32))\n",
    "image_to_test = image.img_to_array(img) / 255\n",
    "list_of_images = np.expand_dims(image_to_test,axis=0)\n",
    "\n",
    "results = model.predict(list_of_images)\n",
    "single_result = results[0]\n",
    "\n",
    "most_likely_class_index = int(np.argmax(single_result)) \n",
    "class_likelihood = single_result[most_likely_class_index]\n",
    "class_label = class_labels[most_likely_class_index]\n",
    "\n",
    "print(f'This image is a {class_label}, likelihood is {class_likelihood}')"
   ]
  },
  {
   "cell_type": "code",
   "execution_count": null,
   "id": "8c33cbc7",
   "metadata": {},
   "outputs": [],
   "source": [
    "#frog_1 : correct"
   ]
  },
  {
   "cell_type": "code",
   "execution_count": 70,
   "id": "201523f3",
   "metadata": {},
   "outputs": [
    {
     "name": "stdout",
     "output_type": "stream",
     "text": [
      "This image is a Frog, likelihood is 0.9988406300544739\n"
     ]
    }
   ],
   "source": [
    "img = image.load_img('frog_1.jpeg',target_size = (32,32))\n",
    "image_to_test = image.img_to_array(img) / 255\n",
    "list_of_images = np.expand_dims(image_to_test,axis=0)\n",
    "\n",
    "results = model.predict(list_of_images)\n",
    "single_result = results[0]\n",
    "\n",
    "most_likely_class_index = int(np.argmax(single_result)) \n",
    "class_likelihood = single_result[most_likely_class_index]\n",
    "class_label = class_labels[most_likely_class_index]\n",
    "\n",
    "print(f'This image is a {class_label}, likelihood is {class_likelihood}')"
   ]
  },
  {
   "cell_type": "code",
   "execution_count": null,
   "id": "78726be9",
   "metadata": {},
   "outputs": [],
   "source": [
    "#frog_2 : correct"
   ]
  },
  {
   "cell_type": "code",
   "execution_count": 72,
   "id": "121cdf94",
   "metadata": {},
   "outputs": [
    {
     "name": "stdout",
     "output_type": "stream",
     "text": [
      "This image is a Frog, likelihood is 0.9445321559906006\n"
     ]
    }
   ],
   "source": [
    "img = image.load_img('frog_2.jpg',target_size = (32,32))\n",
    "image_to_test = image.img_to_array(img) / 255\n",
    "list_of_images = np.expand_dims(image_to_test,axis=0)\n",
    "\n",
    "results = model.predict(list_of_images)\n",
    "single_result = results[0]\n",
    "\n",
    "most_likely_class_index = int(np.argmax(single_result)) \n",
    "class_likelihood = single_result[most_likely_class_index]\n",
    "class_label = class_labels[most_likely_class_index]\n",
    "\n",
    "print(f'This image is a {class_label}, likelihood is {class_likelihood}')"
   ]
  },
  {
   "cell_type": "code",
   "execution_count": 93,
   "id": "5c7c022f",
   "metadata": {},
   "outputs": [],
   "source": [
    "del model"
   ]
  },
  {
   "cell_type": "code",
   "execution_count": null,
   "id": "10463ebc",
   "metadata": {},
   "outputs": [],
   "source": [
    "#bay.jpg : incorrect"
   ]
  },
  {
   "cell_type": "code",
   "execution_count": 99,
   "id": "764cfd2d",
   "metadata": {},
   "outputs": [
    {
     "name": "stdout",
     "output_type": "stream",
     "text": [
      "This image is a Plane, likelihood is 0.9847206473350525\n"
     ]
    }
   ],
   "source": [
    "img = image.load_img('bay.jpg',target_size = (32,32))\n",
    "image_to_test = image.img_to_array(img) / 255\n",
    "list_of_images = np.expand_dims(image_to_test,axis=0)\n",
    "\n",
    "results = model.predict(list_of_images)\n",
    "single_result = results[0]\n",
    "\n",
    "most_likely_class_index = int(np.argmax(single_result)) \n",
    "class_likelihood = single_result[most_likely_class_index]\n",
    "class_label = class_labels[most_likely_class_index]\n",
    "\n",
    "print(f'This image is a {class_label}, likelihood is {class_likelihood}')"
   ]
  }
 ],
 "metadata": {
  "kernelspec": {
   "display_name": "Python 3",
   "language": "python",
   "name": "python3"
  },
  "language_info": {
   "codemirror_mode": {
    "name": "ipython",
    "version": 3
   },
   "file_extension": ".py",
   "mimetype": "text/x-python",
   "name": "python",
   "nbconvert_exporter": "python",
   "pygments_lexer": "ipython3",
   "version": "3.8.11"
  }
 },
 "nbformat": 4,
 "nbformat_minor": 5
}
